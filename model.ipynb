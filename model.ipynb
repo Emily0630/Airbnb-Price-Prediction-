{
 "cells": [
  {
   "cell_type": "code",
   "execution_count": null,
   "metadata": {},
   "outputs": [],
   "source": [
    "import numpy as np\n",
    "import pandas as pd\n",
    "import matplotlib.pyplot as plt\n",
    "from sklearn import datasets\n",
    "from sklearn.model_selection import train_test_split\n",
    "from sklearn.preprocessing import MinMaxScaler\n",
    "import os\n",
    "import seaborn as sns"
   ]
  },
  {
   "cell_type": "code",
   "execution_count": null,
   "metadata": {},
   "outputs": [],
   "source": [
    "path = os.getcwd()\n",
    "airbnb = pd.read_csv(os.path.join(path,'airbnb.csv'))"
   ]
  },
  {
   "cell_type": "code",
   "execution_count": null,
   "metadata": {},
   "outputs": [],
   "source": [
    "(100*airbnb.isnull().sum()/airbnb.shape[0]).round(4)"
   ]
  },
  {
   "cell_type": "code",
   "execution_count": null,
   "metadata": {},
   "outputs": [],
   "source": [
    "airbnb = pd.get_dummies(airbnb, columns=[\"room_type\"], prefix=[\"room_type_is\"])\n",
    "airbnb = pd.get_dummies(airbnb, columns=[\"property_type\"], prefix=[\"property_type_is\"])\n",
    "airbnb = pd.get_dummies(airbnb, columns=[\"bed_type\"], prefix=[\"bed_type_is\"])\n",
    "airbnb = pd.get_dummies(airbnb, columns=[\"host_response_time\"], prefix=[\"host_response_time_is\"])\n",
    "airbnb = pd.get_dummies(airbnb, columns=[\"host_since_year\"], prefix=[\"host_since_year_is\"])\n",
    "airbnb = pd.get_dummies(airbnb, columns=[\"city\"], prefix=[\"city_is\"])"
   ]
  },
  {
   "cell_type": "code",
   "execution_count": null,
   "metadata": {},
   "outputs": [],
   "source": [
    "from sklearn.preprocessing import LabelEncoder\n",
    "le = LabelEncoder()\n",
    "airbnb['neighbourhood_cleansed_le'] = le.fit_transform(airbnb['neighbourhood_cleansed'])\n",
    "# airbnb['city_le'] = le.fit_transform(airbnb['city'])\n",
    "airbnb['state_le'] = le.fit_transform(airbnb['state'])\n",
    "airbnb['country_le'] = le.fit_transform(airbnb['country'])"
   ]
  },
  {
   "cell_type": "code",
   "execution_count": null,
   "metadata": {},
   "outputs": [],
   "source": [
    "airbnb[['Year', 'Month', 'Day']] = airbnb.host_since_anniversary.str.split('/', expand=True)"
   ]
  },
  {
   "cell_type": "code",
   "execution_count": null,
   "metadata": {},
   "outputs": [],
   "source": [
    "(100*airbnb.isnull().sum()/airbnb.shape[0]).round(4)"
   ]
  },
  {
   "cell_type": "code",
   "execution_count": null,
   "metadata": {},
   "outputs": [],
   "source": [
    "X = airbnb[['zipcode', 'accommodates',\n",
    "       'bathrooms', 'bedrooms', 'beds',  'guests_included',\n",
    "       'extra_people', 'minimum_nights', 'host_response_rate',\n",
    "       'number_of_reviews', 'review_scores_rating', 'review_scores_accuracy',\n",
    "       'review_scores_cleanliness', 'review_scores_checkin',\n",
    "       'review_scores_communication', 'review_scores_location',\n",
    "       'review_scores_value', \n",
    "       'room_type_is_Entire home/apt', 'room_type_is_Private room',\n",
    "       'room_type_is_Shared room', 'property_type_is_Apartment',\n",
    "       'property_type_is_Bed & Breakfast', 'property_type_is_Boat',\n",
    "       'property_type_is_Cabin', 'property_type_is_Camper/RV',\n",
    "       'property_type_is_Chalet', 'property_type_is_Dorm',\n",
    "       'property_type_is_Earth House', 'property_type_is_House',\n",
    "       'property_type_is_Hut', 'property_type_is_Loft',\n",
    "       'property_type_is_Other', 'property_type_is_Treehouse',\n",
    "       'property_type_is_Villa', 'property_type_is_Yurt', 'bed_type_is_Airbed',\n",
    "       'bed_type_is_Couch', 'bed_type_is_Futon', 'bed_type_is_Pull-out Sofa',\n",
    "       'bed_type_is_Real Bed', 'host_response_time_is_a few days or more',\n",
    "       'host_response_time_is_within a day',\n",
    "       'host_response_time_is_within a few hours',\n",
    "       'host_response_time_is_within an hour', 'host_since_year_is_2008',\n",
    "       'host_since_year_is_2009', 'host_since_year_is_2010',\n",
    "       'host_since_year_is_2011', 'host_since_year_is_2012',\n",
    "       'host_since_year_is_2013', 'host_since_year_is_2014',\n",
    "       'host_since_year_is_2015', 'city_is_Amsterdam', 'city_is_Badhoevedorp',\n",
    "       'city_is_Diemen', 'city_is_Duivendrecht', 'city_is_Halfweg',\n",
    "       'city_is_Landsmeer', 'neighbourhood_cleansed_le']]\n",
    "y = airbnb['price']\n",
    "X_train, X_test, y_train, y_test = train_test_split(X, y, train_size = 0.95, test_size = 0.05, random_state=0)\n",
    "y_train = np.log(y_train)"
   ]
  },
  {
   "cell_type": "code",
   "execution_count": null,
   "metadata": {},
   "outputs": [],
   "source": [
    "from sklearn import preprocessing\n",
    "scaler = preprocessing.StandardScaler()\n",
    "X_train_scaled = scaler.fit_transform(X_train)\n",
    "X_test_scaled = scaler.transform(X_test)"
   ]
  },
  {
   "cell_type": "code",
   "execution_count": null,
   "metadata": {},
   "outputs": [],
   "source": [
    "from sklearn import neighbors\n",
    "from sklearn.model_selection import GridSearchCV\n",
    "from sklearn.metrics import mean_squared_error \n",
    "from math import sqrt\n",
    "from numpy import arange\n",
    "from sklearn.metrics import mean_squared_error\n",
    "from sklearn.metrics import r2_score"
   ]
  },
  {
   "cell_type": "code",
   "execution_count": null,
   "metadata": {},
   "outputs": [],
   "source": [
    "params = {'n_neighbors':np.arange(1,21,2)}\n",
    "knn = neighbors.KNeighborsRegressor()\n",
    "knn_model = GridSearchCV(knn, params, cv=5)\n",
    "knn_model.fit(X_train_scaled, y_train)\n",
    "knn_model.best_params_"
   ]
  },
  {
   "cell_type": "code",
   "execution_count": null,
   "metadata": {},
   "outputs": [],
   "source": [
    "from numpy import arange\n",
    "from sklearn.metrics import mean_squared_error\n",
    "from sklearn.metrics import r2_score\n",
    "y_pred = knn_model.predict(X_test_scaled)\n",
    "y_pred_f = np.exp(y_pred)"
   ]
  },
  {
   "cell_type": "code",
   "execution_count": null,
   "metadata": {},
   "outputs": [],
   "source": [
    "from sklearn.linear_model import LinearRegression\n",
    "MLR = LinearRegression()\n",
    "MLR.fit(X_train_scaled, y_train)"
   ]
  },
  {
   "cell_type": "code",
   "execution_count": null,
   "metadata": {},
   "outputs": [],
   "source": [
    "from sklearn.metrics import mean_squared_error\n",
    "from sklearn.metrics import r2_score\n",
    "y_pred = MLR.predict(X_test_scaled)\n",
    "y_pred_f = np.exp(y_pred)\n",
    "np.sqrt(mean_squared_error(y_pred_f, y_test))\n",
    "r2_score(y_test, y_pred_f)"
   ]
  },
  {
   "cell_type": "code",
   "execution_count": null,
   "metadata": {},
   "outputs": [],
   "source": [
    "from sklearn.linear_model import Lasso\n",
    "from sklearn.linear_model import LassoCV"
   ]
  },
  {
   "cell_type": "code",
   "execution_count": null,
   "metadata": {},
   "outputs": [],
   "source": [
    "from numpy import arange\n",
    "alphas=list(np.logspace(-100,1, 200, base=2))\n",
    "Lasso_model = LassoCV(alphas=alphas, cv=5, random_state=0, max_iter = 2000)\n",
    "Lasso_model.fit(X_train_scaled, y_train)"
   ]
  },
  {
   "cell_type": "code",
   "execution_count": null,
   "metadata": {},
   "outputs": [],
   "source": [
    "Lasso_model.alpha_"
   ]
  },
  {
   "cell_type": "code",
   "execution_count": null,
   "metadata": {},
   "outputs": [],
   "source": [
    "feature = ['zipcode', 'accommodates',\n",
    "       'bathrooms', 'bedrooms', 'beds',  'guests_included',\n",
    "       'extra_people', 'minimum_nights', 'host_response_rate',\n",
    "       'number_of_reviews', 'review_scores_rating', 'review_scores_accuracy',\n",
    "       'review_scores_cleanliness', 'review_scores_checkin',\n",
    "       'review_scores_communication', 'review_scores_location',\n",
    "       'review_scores_value', \n",
    "       'room_type_is_Entire home/apt', 'room_type_is_Private room',\n",
    "       'room_type_is_Shared room', 'property_type_is_Apartment',\n",
    "       'property_type_is_Bed & Breakfast', 'property_type_is_Boat',\n",
    "       'property_type_is_Cabin', 'property_type_is_Camper/RV',\n",
    "       'property_type_is_Chalet', 'property_type_is_Dorm',\n",
    "       'property_type_is_Earth House', 'property_type_is_House',\n",
    "       'property_type_is_Hut', 'property_type_is_Loft',\n",
    "       'property_type_is_Other', 'property_type_is_Treehouse',\n",
    "       'property_type_is_Villa', 'property_type_is_Yurt', 'bed_type_is_Airbed',\n",
    "       'bed_type_is_Couch', 'bed_type_is_Futon', 'bed_type_is_Pull-out Sofa',\n",
    "       'bed_type_is_Real Bed', 'host_response_time_is_a few days or more',\n",
    "       'host_response_time_is_within a day',\n",
    "       'host_response_time_is_within a few hours',\n",
    "       'host_response_time_is_within an hour', 'host_since_year_is_2008',\n",
    "       'host_since_year_is_2009', 'host_since_year_is_2010',\n",
    "       'host_since_year_is_2011', 'host_since_year_is_2012',\n",
    "       'host_since_year_is_2013', 'host_since_year_is_2014',\n",
    "       'host_since_year_is_2015', 'city_is_Amsterdam', 'city_is_Badhoevedorp',\n",
    "       'city_is_Diemen', 'city_is_Duivendrecht', 'city_is_Halfweg',\n",
    "       'city_is_Landsmeer', 'neighbourhood_cleansed_le']"
   ]
  },
  {
   "cell_type": "code",
   "execution_count": null,
   "metadata": {},
   "outputs": [],
   "source": [
    "lst1_X = []\n",
    "lst1_imp = []\n",
    "for i in range(len(Lasso_model.coef_)):\n",
    "    if Lasso_model.coef_[i] >= 0.05 or Lasso_model.coef_[i] <= -0.05:\n",
    "        lst1_imp.append(Lasso_model.coef_[i])\n",
    "        lst1_X.append(feature[i])"
   ]
  },
  {
   "cell_type": "code",
   "execution_count": null,
   "metadata": {},
   "outputs": [],
   "source": [
    "lst2_X = []\n",
    "lst2_imp = []\n",
    "for i in range(len(Lasso_model.coef_)):\n",
    "    if -0.005 < Lasso_model.coef_[i] < 0.005:\n",
    "        lst2_imp.append(Lasso_model.coef_[i])\n",
    "        lst2_X.append(feature[i])\n",
    "        "
   ]
  },
  {
   "cell_type": "code",
   "execution_count": null,
   "metadata": {},
   "outputs": [],
   "source": [
    "lst3_X = []\n",
    "lst3_imp = []\n",
    "for i in range(len(Lasso_model.coef_)):\n",
    "    if -0.05 < Lasso_model.coef_[i] <= -0.005 or  0.005 <= Lasso_model.coef_[i] < 0.05:\n",
    "        lst3_imp.append(Lasso_model.coef_[i])\n",
    "        lst3_X.append(feature[i])"
   ]
  },
  {
   "cell_type": "code",
   "execution_count": null,
   "metadata": {},
   "outputs": [],
   "source": [
    "import matplotlib.pyplot as plt\n",
    "plt.style.use('ggplot')\n",
    "plt.figure(figsize=(50,50))\n",
    "plt.barh([i for i in lst1_X], [j for j in lst1_imp], color='blue')\n",
    "plt.xlabel(\"importance\",fontsize=100)\n",
    "plt.ylabel(\"features\",fontsize=100)\n",
    "plt.xticks(fontsize=100)  \n",
    "plt.yticks(fontsize=100,rotation = 45, horizontalalignment = 'right') \n",
    "plt.title(\"Lasso Regression Important Features\",fontsize=100)\n",
    "plt.savefig('Lasso Important',bbox_inches = 'tight')\n",
    "plt.show()"
   ]
  },
  {
   "cell_type": "code",
   "execution_count": null,
   "metadata": {},
   "outputs": [],
   "source": [
    "import matplotlib.pyplot as plt\n",
    "plt.style.use('ggplot')\n",
    "plt.figure(figsize=(100,150))\n",
    "plt.barh([i for i in lst2_X], [j for j in lst2_imp],color='blue')\n",
    "plt.xlabel(\"importance\",fontsize=150)\n",
    "plt.ylabel(\"features\",fontsize=150)\n",
    "plt.xticks(fontsize=150)  \n",
    "plt.yticks(fontsize=150,rotation = 45, horizontalalignment = 'right') \n",
    "plt.title(\"Lasso Regression Not Important Features\",fontsize=150)\n",
    "plt.savefig('LASSO Not',bbox_inches = 'tight')\n",
    "plt.show()"
   ]
  },
  {
   "cell_type": "code",
   "execution_count": null,
   "metadata": {},
   "outputs": [],
   "source": [
    "import matplotlib.pyplot as plt\n",
    "plt.style.use('ggplot')\n",
    "plt.figure(figsize=(100,150))\n",
    "plt.barh([i for i in lst3_X], [j for j in lst3_imp], color='blue')\n",
    "plt.xlabel(\"importance\",fontsize=150)\n",
    "plt.ylabel(\"features\",fontsize=150)\n",
    "plt.xticks(fontsize=150)  \n",
    "plt.yticks(fontsize=150,rotation = 45, horizontalalignment = 'right') \n",
    "plt.title(\"Lasso Regression Other Features\",fontsize=150)\n",
    "plt.savefig('LASSO Other',bbox_inches = 'tight')\n",
    "plt.show()"
   ]
  },
  {
   "cell_type": "code",
   "execution_count": null,
   "metadata": {},
   "outputs": [],
   "source": [
    "from sklearn.linear_model import Ridge\n",
    "from sklearn.linear_model import RidgeCV"
   ]
  },
  {
   "cell_type": "code",
   "execution_count": null,
   "metadata": {},
   "outputs": [],
   "source": [
    "alpha = np.logspace(-10,20,500,base = 2)\n",
    "Ridge_model = RidgeCV(alphas=alpha, cv=5).fit(X_train_scaled, y_train)"
   ]
  },
  {
   "cell_type": "code",
   "execution_count": null,
   "metadata": {},
   "outputs": [],
   "source": [
    "Ridge_model.alpha_"
   ]
  },
  {
   "cell_type": "code",
   "execution_count": null,
   "metadata": {},
   "outputs": [],
   "source": [
    "lst4_X = []\n",
    "lst4_imp = []\n",
    "for i in range(len(Ridge_model.coef_)):\n",
    "    if Ridge_model.coef_[i] >= 0.05 or Ridge_model.coef_[i] <= -0.05:\n",
    "        lst4_imp.append(Ridge_model.coef_[i])\n",
    "        lst4_X.append(feature[i])\n",
    "\n",
    "lst5_X = []\n",
    "lst5_imp = []\n",
    "for i in range(len(Ridge_model.coef_)):\n",
    "    if -0.005 < Ridge_model.coef_[i] < 0.005:\n",
    "        lst5_imp.append(Ridge_model.coef_[i])\n",
    "        lst5_X.append(feature[i])\n",
    "        \n",
    "lst6_X = []\n",
    "lst6_imp = []\n",
    "for i in range(len(Ridge_model.coef_)):\n",
    "    if -0.05 < Ridge_model.coef_[i] <= -0.005 or  0.005 <= Ridge_model.coef_[i] < 0.05:\n",
    "        lst6_imp.append(Ridge_model.coef_[i])\n",
    "        lst6_X.append(feature[i])"
   ]
  },
  {
   "cell_type": "code",
   "execution_count": null,
   "metadata": {},
   "outputs": [],
   "source": [
    "import matplotlib.pyplot as plt\n",
    "plt.style.use('ggplot')\n",
    "plt.figure(figsize=(75,50))\n",
    "plt.barh([i for i in lst4_X], [j for j in lst4_imp], color='blue')\n",
    "plt.xlabel(\"importance\",fontsize=100)\n",
    "plt.ylabel(\"features\",fontsize=100)\n",
    "plt.xticks(fontsize=100)  \n",
    "plt.yticks(fontsize=100,rotation = 45, horizontalalignment = 'right') \n",
    "plt.title(\"Ridge Regression Important Features\",fontsize=100)\n",
    "plt.savefig('Ridge Important',bbox_inches = 'tight')\n",
    "plt.show()"
   ]
  },
  {
   "cell_type": "code",
   "execution_count": null,
   "metadata": {},
   "outputs": [],
   "source": [
    "import matplotlib.pyplot as plt\n",
    "plt.style.use('ggplot')\n",
    "plt.figure(figsize=(100,150))\n",
    "plt.barh([i for i in lst5_X], [j for j in lst5_imp], color='blue')\n",
    "plt.xlabel(\"importance\",fontsize=150)\n",
    "plt.ylabel(\"features\",fontsize=150)\n",
    "plt.xticks(fontsize=150)  \n",
    "plt.yticks(fontsize=150,rotation = 45, horizontalalignment = 'right') \n",
    "plt.title(\"Ridge Regression Not Important Features\",fontsize=150)\n",
    "plt.savefig('Ridge Not',bbox_inches = 'tight')\n",
    "plt.show()"
   ]
  },
  {
   "cell_type": "code",
   "execution_count": null,
   "metadata": {},
   "outputs": [],
   "source": [
    "import matplotlib.pyplot as plt\n",
    "plt.style.use('ggplot')\n",
    "plt.figure(figsize=(100,180))\n",
    "plt.barh([i for i in lst6_X], [j for j in lst6_imp], color='blue')\n",
    "plt.xlabel(\"importance\",fontsize=150)\n",
    "plt.ylabel(\"features\",fontsize=150)\n",
    "plt.xticks(fontsize=150)  \n",
    "plt.yticks(fontsize=150,rotation = 45, horizontalalignment = 'right')\n",
    "plt.title(\"Ridge Regression Other Features\",fontsize=150)\n",
    "plt.savefig('Ridge Other',bbox_inches = 'tight')\n",
    "plt.show()"
   ]
  },
  {
   "cell_type": "code",
   "execution_count": null,
   "metadata": {},
   "outputs": [],
   "source": [
    "from sklearn.ensemble import RandomForestRegressor\n",
    "from sklearn.model_selection import RandomizedSearchCV"
   ]
  },
  {
   "cell_type": "code",
   "execution_count": null,
   "metadata": {},
   "outputs": [],
   "source": [
    "rf = RandomForestRegressor(random_state = 42)\n",
    "random_grid = {'max_depth': [2, 5, 10,  20, 30, 40, 50],\n",
    " 'n_estimators': [50, 100, 300, 500, 750, 1000, 1200, 2000],\n",
    " \"min_samples_split\": [2, 5, 7, 10, 12, 15]}\n",
    "#RFRegModel = GridSearchCV(RandomForestRegressor(random_state=0), parameters,scoring='neg_mean_absolute_error',refit=False,cv=2, n_jobs=-1)\n",
    "RFRegModel = RandomizedSearchCV(estimator = rf, param_distributions = random_grid, n_iter = 100, cv = 5, verbose=2, random_state=42, n_jobs = -1)\n",
    "RFRegModel.fit(X_train_scaled, y_train)\n",
    "RFRegModel.best_params_"
   ]
  },
  {
   "cell_type": "code",
   "execution_count": null,
   "metadata": {},
   "outputs": [],
   "source": [
    "RFRegModel = RandomForestRegressor( n_estimators= 1000, min_samples_split = 7, max_depth = 20)\n",
    "RFRegModel.fit(X_train_scaled, y_train)"
   ]
  },
  {
   "cell_type": "code",
   "execution_count": null,
   "metadata": {},
   "outputs": [],
   "source": [
    "from numpy import arange\n",
    "from sklearn.metrics import mean_squared_error\n",
    "from sklearn.metrics import r2_score\n",
    "y_pred = RFRegModel.predict(X_test_scaled)\n",
    "y_pred_f = np.exp(y_pred)"
   ]
  },
  {
   "cell_type": "code",
   "execution_count": null,
   "metadata": {},
   "outputs": [],
   "source": [
    "importances = RFRegModel.feature_importances_"
   ]
  },
  {
   "cell_type": "code",
   "execution_count": null,
   "metadata": {},
   "outputs": [],
   "source": [
    "lst7_X = []\n",
    "lst7_imp = []\n",
    "for i in range(len(RFRegModel.feature_importances_)):\n",
    "    if RFRegModel.feature_importances_[i] >= 0.05 or RFRegModel.feature_importances_[i] <= -0.05:\n",
    "        lst7_imp.append(RFRegModel.feature_importances_[i])\n",
    "        lst7_X.append(feature[i])\n",
    "\n",
    "lst8_X = []\n",
    "lst8_imp = []\n",
    "for i in range(len(RFRegModel.feature_importances_)):\n",
    "    if -0.002 < RFRegModel.feature_importances_[i] < 0.002:\n",
    "        lst8_imp.append(RFRegModel.feature_importances_[i])\n",
    "        lst8_X.append(feature[i])\n",
    "        \n",
    "lst9_X = []\n",
    "lst9_imp = []\n",
    "for i in range(len(RFRegModel.feature_importances_)):\n",
    "    if -0.05 <RFRegModel.feature_importances_[i] <= -0.002 or  0.002 <= RFRegModel.feature_importances_[i] < 0.05:\n",
    "        lst9_imp.append(RFRegModel.feature_importances_[i])\n",
    "        lst9_X.append(feature[i])"
   ]
  },
  {
   "cell_type": "code",
   "execution_count": null,
   "metadata": {},
   "outputs": [],
   "source": [
    "import matplotlib.pyplot as plt\n",
    "plt.style.use('ggplot')\n",
    "plt.figure(figsize=(50,50))\n",
    "plt.barh([i for i in lst7_X], [j for j in lst7_imp], color='blue')\n",
    "plt.xlabel(\"importance\",fontsize=100)\n",
    "plt.ylabel(\"features\",fontsize=100)\n",
    "plt.xticks(fontsize=100)  \n",
    "plt.yticks(fontsize=100,rotation = 45, horizontalalignment = 'right') \n",
    "plt.title(\"Random Forest Important Features\",fontsize=100)\n",
    "plt.savefig('Random Forest Important',bbox_inches = 'tight')\n",
    "plt.show()"
   ]
  },
  {
   "cell_type": "code",
   "execution_count": null,
   "metadata": {},
   "outputs": [],
   "source": [
    "import matplotlib.pyplot as plt\n",
    "plt.style.use('ggplot')\n",
    "plt.figure(figsize=(100,150))\n",
    "plt.barh([i for i in lst8_X], [j for j in lst8_imp], color='blue')\n",
    "plt.xlabel(\"importance\",fontsize=150)\n",
    "plt.ylabel(\"features\",fontsize=150)\n",
    "plt.xticks(fontsize=150)  \n",
    "plt.yticks(fontsize=150,rotation = 45, horizontalalignment = 'right')\n",
    "plt.title(\"Radndom Forset Not Important Features\",fontsize=150)\n",
    "plt.savefig('Radndom Forset Not',bbox_inches = 'tight')\n",
    "plt.show()"
   ]
  },
  {
   "cell_type": "code",
   "execution_count": null,
   "metadata": {},
   "outputs": [],
   "source": [
    "import matplotlib.pyplot as plt\n",
    "plt.style.use('ggplot')\n",
    "plt.figure(figsize=(100,150))\n",
    "plt.barh([i for i in lst9_X], [j for j in lst9_imp], color='blue')\n",
    "plt.xlabel(\"importance\",fontsize=150)\n",
    "plt.ylabel(\"features\",fontsize=150)\n",
    "plt.xticks(fontsize=150)  \n",
    "plt.yticks(fontsize=150,rotation = 45, horizontalalignment = 'right')\n",
    "plt.title(\"Random Forest Other Features\",fontsize=150)\n",
    "plt.savefig('Random Forest Other',bbox_inches = 'tight')\n",
    "plt.show()"
   ]
  },
  {
   "cell_type": "code",
   "execution_count": null,
   "metadata": {},
   "outputs": [],
   "source": [
    "from sklearn.datasets import make_regression\n",
    "from sklearn.ensemble import GradientBoostingRegressor\n",
    "from sklearn.model_selection import GridSearchCV"
   ]
  },
  {
   "cell_type": "code",
   "execution_count": null,
   "metadata": {},
   "outputs": [],
   "source": [
    "gb= GradientBoostingRegressor(random_state = 42)\n",
    "random_grid = {\"learning_rate\": [0.0001, 0.001, 0.01, 0.1, 0.15, 0.2, 0.25, 0.3],\n",
    " 'max_depth': [2, 5, 10, 11, 12, 13, 15, 20, 30, 40, 50, 60, 70, 80, 90, 100, None],\n",
    " 'max_features': ['auto', 'sqrt', None],\n",
    " 'min_samples_leaf': [1, 2, 4, 6],\n",
    " \"min_samples_split\": [2, 5, 10, 12, 15, 17, 20, 22],\n",
    " 'n_estimators': [200, 400, 600, 800, 1000, 1200, 1400, 1600, 1800, 2000]}\n",
    "reg = RandomizedSearchCV(estimator = gb, param_distributions = random_grid, n_iter = 100, cv = 5, verbose=2, random_state=42, n_jobs = -1)\n",
    "\n",
    "reg.fit(X_train_scaled, y_train)\n",
    "print(reg.best_score_)\n",
    "print(reg.best_params_)"
   ]
  },
  {
   "cell_type": "code",
   "execution_count": null,
   "metadata": {},
   "outputs": [],
   "source": [
    "gb.fit(X_train_scaled, y_train)"
   ]
  },
  {
   "cell_type": "code",
   "execution_count": null,
   "metadata": {},
   "outputs": [],
   "source": [
    "from sklearn.metrics import mean_squared_error\n",
    "from sklearn.metrics import r2_score\n",
    "y_pred =GBoosting .predict(X_test_scaled)\n",
    "y_pred_f = np.exp(y_pred)\n",
    "np.sqrt(mean_squared_error(y_pred_f, y_test))"
   ]
  },
  {
   "cell_type": "code",
   "execution_count": null,
   "metadata": {},
   "outputs": [],
   "source": [
    "GBoosting = GradientBoostingRegressor(n_estimators = 1800, min_samples_split = 17, min_samples_leaf = 4, max_depth = 5, learning_rate = 0.01)\n",
    "GBoosting.fit(X_train_scaled, y_train)"
   ]
  },
  {
   "cell_type": "code",
   "execution_count": null,
   "metadata": {},
   "outputs": [],
   "source": [
    "lst10_X = []\n",
    "lst10_imp = []\n",
    "for i in range(len(GBoosting.feature_importances_)):\n",
    "    if GBoosting.feature_importances_[i] >= 0.1:\n",
    "        lst10_imp.append(GBoosting.feature_importances_[i])\n",
    "        lst10_X.append(feature[i])\n",
    "\n",
    "lst11_X = []\n",
    "lst11_imp = []\n",
    "for i in range(len(GBoosting.feature_importances_)):\n",
    "    if GBoosting.feature_importances_[i] < 0.002:\n",
    "        lst11_imp.append(GBoosting.feature_importances_[i])\n",
    "        lst11_X.append(feature[i])\n",
    "        \n",
    "lst12_X = []\n",
    "lst12_imp = []\n",
    "for i in range(len(GBoosting.feature_importances_)):\n",
    "    if 0.002 <= GBoosting.feature_importances_[i] <= 0.1:\n",
    "        lst12_imp.append(GBoosting.feature_importances_[i])\n",
    "        lst12_X.append(feature[i])"
   ]
  },
  {
   "cell_type": "code",
   "execution_count": null,
   "metadata": {},
   "outputs": [],
   "source": [
    "import matplotlib.pyplot as plt\n",
    "plt.style.use('ggplot')\n",
    "plt.figure(figsize=(50,50))\n",
    "plt.barh([i for i in lst10_X], [j for j in lst10_imp], color='blue')\n",
    "plt.xlabel(\"importance\",fontsize=100)\n",
    "plt.ylabel(\"features\",fontsize=100)\n",
    "plt.xticks(fontsize=100)  \n",
    "plt.yticks(fontsize=100,rotation = 45, horizontalalignment = 'right')\n",
    "plt.title(\"Gradient Boosting Important Features\",fontsize=100)\n",
    "plt.savefig('Gradient Boosting Important',bbox_inches = 'tight')\n",
    "plt.show()"
   ]
  },
  {
   "cell_type": "code",
   "execution_count": null,
   "metadata": {},
   "outputs": [],
   "source": [
    "import matplotlib.pyplot as plt\n",
    "plt.style.use('ggplot')\n",
    "plt.figure(figsize=(100,180))\n",
    "plt.barh([i for i in lst11_X], [j for j in lst11_imp], color='blue')\n",
    "plt.xlabel(\"importance\",fontsize=150)\n",
    "plt.ylabel(\"features\",fontsize=150)\n",
    "plt.xticks(fontsize=150)  \n",
    "plt.yticks(fontsize=150,rotation = 45, horizontalalignment = 'right')\n",
    "plt.title(\"Gradient Boosting Not Important Features\",fontsize=150)\n",
    "plt.savefig('Gradient Boosting Not',bbox_inches = 'tight')\n",
    "plt.show()"
   ]
  },
  {
   "cell_type": "code",
   "execution_count": null,
   "metadata": {},
   "outputs": [],
   "source": [
    "import matplotlib.pyplot as plt\n",
    "plt.style.use('ggplot')\n",
    "plt.figure(figsize=(100,180))\n",
    "plt.barh([i for i in lst12_X], [j for j in lst12_imp], color='blue')\n",
    "plt.xlabel(\"importance\",fontsize=150)\n",
    "plt.ylabel(\"features\",fontsize=150)\n",
    "plt.xticks(fontsize=150)  \n",
    "plt.yticks(fontsize=150,rotation = 45, horizontalalignment = 'right')\n",
    "plt.title(\"Gradient Boosting  Other Features\",fontsize=150)\n",
    "plt.savefig('Gradient Boosting Other',bbox_inches = 'tight')\n",
    "plt.show()"
   ]
  },
  {
   "cell_type": "code",
   "execution_count": null,
   "metadata": {},
   "outputs": [],
   "source": [
    "importances = GBoosting.feature_importances_\n",
    "import matplotlib.pyplot as plt\n",
    "plt.style.use('ggplot')\n",
    "plt.figure(figsize=(12,15))\n",
    "plt.barh([i for i in X], [j for j in importances], color='blue')\n",
    "plt.xlabel(\"importance\")\n",
    "plt.ylabel(\"features\")\n",
    "plt.title(\"Gradient Boosting\")\n",
    "plt.savefig('Gradient Boosting')\n",
    "plt.show()"
   ]
  },
  {
   "cell_type": "code",
   "execution_count": null,
   "metadata": {},
   "outputs": [],
   "source": [
    "from sklearn.model_selection import cross_val_score\n",
    "from xgboost import XGBRegressor\n",
    "from numpy import absolute"
   ]
  },
  {
   "cell_type": "code",
   "execution_count": null,
   "metadata": {},
   "outputs": [],
   "source": [
    "xg = XGBRegressor()\n",
    "random_grid = {\"learning_rate\": [0.0001, 0.001, 0.005, 0.01, 0.1, 0.11, 0.12, 0.13, 0.14, 0.15, 0.16,  0.2,  0.3],\n",
    " 'max_depth': [2,5, 7, 10, 11, 12, 13, 15, 20, 30, 40, 50, 60, 70, 80, 90, 100, None],\n",
    " 'n_estimators': [100, 150, 175, 200, 250, 300, 400, 500, 600]}\n",
    "reg1 = RandomizedSearchCV(estimator = xg, param_distributions = random_grid, n_iter = 100, cv = 5, verbose=2, random_state=42, n_jobs = -1)\n",
    "reg1.fit(X_train_scaled, y_train)\n",
    "print(reg1.best_score_)\n",
    "print(reg1.best_params_)"
   ]
  },
  {
   "cell_type": "code",
   "execution_count": null,
   "metadata": {},
   "outputs": [],
   "source": [
    "XGBoosting = XGBRegressor(n_estimators = 176, learning_rate = 0.145, max_depth = 5, colsample_bylevel = 0.9)\n",
    "XGBoosting.fit(X_train_scaled, y_train)"
   ]
  },
  {
   "cell_type": "code",
   "execution_count": null,
   "metadata": {},
   "outputs": [],
   "source": [
    "importances = XGBoosting.feature_importances_"
   ]
  },
  {
   "cell_type": "code",
   "execution_count": null,
   "metadata": {},
   "outputs": [],
   "source": [
    "lst13_X = []\n",
    "lst13_imp = []\n",
    "for i in range(len(XGBoosting.feature_importances_)):\n",
    "    if XGBoosting.feature_importances_[i] >= 0.07:\n",
    "        lst13_imp.append(XGBoosting.feature_importances_[i])\n",
    "        lst13_X.append(feature[i])\n",
    "\n",
    "lst14_X = []\n",
    "lst14_imp = []\n",
    "for i in range(len(XGBoosting.feature_importances_)):\n",
    "    if XGBoosting.feature_importances_[i] < 0.005:\n",
    "        lst14_imp.append(XGBoosting.feature_importances_[i])\n",
    "        lst14_X.append(feature[i])\n",
    "        \n",
    "lst15_X = []\n",
    "lst15_imp = []\n",
    "for i in range(len(XGBoosting.feature_importances_)):\n",
    "    if 0.005 <= XGBoosting.feature_importances_[i] <= 0.07:\n",
    "        lst15_imp.append(XGBoosting.feature_importances_[i])\n",
    "        lst15_X.append(feature[i])"
   ]
  },
  {
   "cell_type": "code",
   "execution_count": null,
   "metadata": {},
   "outputs": [],
   "source": [
    "import matplotlib.pyplot as plt\n",
    "plt.style.use('ggplot')\n",
    "plt.figure(figsize=(50,30))\n",
    "plt.barh([i for i in lst13_X], [j for j in lst13_imp], color='blue')\n",
    "plt.xlabel(\"importance\",fontsize=100)\n",
    "plt.ylabel(\"features\",fontsize=100)\n",
    "plt.xticks(fontsize=100)  \n",
    "plt.yticks(fontsize=100,rotation = 45, horizontalalignment = 'right')\n",
    "plt.title(\"XGBoosting Important Features\",fontsize=100)\n",
    "plt.savefig('XGBoosting Important',bbox_inches = 'tight')\n",
    "plt.show()"
   ]
  },
  {
   "cell_type": "code",
   "execution_count": null,
   "metadata": {},
   "outputs": [],
   "source": [
    "import matplotlib.pyplot as plt\n",
    "plt.style.use('ggplot')\n",
    "plt.figure(figsize=(100,150))\n",
    "plt.barh([i for i in lst14_X], [j for j in lst14_imp], color='blue')\n",
    "plt.xlabel(\"importance\",fontsize=150)\n",
    "plt.ylabel(\"features\",fontsize=150)\n",
    "plt.xticks(fontsize=150)  \n",
    "plt.yticks(fontsize=150,rotation = 45, horizontalalignment = 'right')\n",
    "plt.title(\"XGBoosting Not Important Features\",fontsize=150)\n",
    "plt.savefig('XGBoosting Boosting Not',bbox_inches = 'tight')\n",
    "plt.show()"
   ]
  },
  {
   "cell_type": "code",
   "execution_count": null,
   "metadata": {},
   "outputs": [],
   "source": [
    "import matplotlib.pyplot as plt\n",
    "plt.style.use('ggplot')\n",
    "plt.figure(figsize=(100,180))\n",
    "plt.barh([i for i in lst15_X], [j for j in lst15_imp], color='blue')\n",
    "plt.xlabel(\"importance\",fontsize=150)\n",
    "plt.ylabel(\"features\",fontsize=150)\n",
    "plt.xticks(fontsize=150)  \n",
    "plt.yticks(fontsize=150,rotation = 45, horizontalalignment = 'right')\n",
    "plt.title(\"XGBoosting Other Features\",fontsize=150)\n",
    "plt.savefig('XGBoosting Other',bbox_inches = 'tight')\n",
    "plt.show()"
   ]
  },
  {
   "cell_type": "code",
   "execution_count": null,
   "metadata": {},
   "outputs": [],
   "source": [
    "from sklearn.metrics import confusion_matrix, precision_score, roc_auc_score\n",
    "\n",
    "methods =  [knn_model, MLR, Lasso_model, Ridge_model, RFRegModel, GBoosting, XGBoosting]\n",
    "#methods =  [MLR, Lasso_model, Ridge_model]\n",
    "columns = ['rmse',  'r2']\n",
    "rows = ['KNN','MLR','LASSO reg','Ridge reg', 'random forest','gradient boosting', 'XGBoosting']\n",
    "#rows = ['MLR','LASSO reg','Ridge reg']\n",
    "results = pd.DataFrame(0.0, columns=columns, index=rows)\n",
    "\n",
    "for i, method in enumerate(methods):   \n",
    "    y_pred = method.predict(X_test_scaled)\n",
    "    y_pred_f = np.exp(y_pred)\n",
    "    results.iloc[i,0] = np.sqrt(mean_squared_error(y_pred_f, y_test))\n",
    "    results.iloc[i,1] = r2_score(y_test, y_pred_f)"
   ]
  },
  {
   "cell_type": "code",
   "execution_count": null,
   "metadata": {},
   "outputs": [],
   "source": [
    "results.round(4)"
   ]
  }
 ],
 "metadata": {
  "kernelspec": {
   "display_name": "Python 3",
   "language": "python",
   "name": "python3"
  },
  "language_info": {
   "codemirror_mode": {
    "name": "ipython",
    "version": 3
   },
   "file_extension": ".py",
   "mimetype": "text/x-python",
   "name": "python",
   "nbconvert_exporter": "python",
   "pygments_lexer": "ipython3",
   "version": "3.7.6"
  }
 },
 "nbformat": 4,
 "nbformat_minor": 4
}
